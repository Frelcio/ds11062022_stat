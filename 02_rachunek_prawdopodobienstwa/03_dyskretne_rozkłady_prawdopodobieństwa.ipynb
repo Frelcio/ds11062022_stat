{
  "cells": [
    {
      "cell_type": "markdown",
      "metadata": {
        "id": "M02z4ZbOcRII"
      },
      "source": [
        "# Rozkłady dyskretne\n",
        "1. Rozkład dwupunktowy\n",
        "2. Rozkład dwumianowy"
      ]
    },
    {
      "cell_type": "code",
      "execution_count": null,
      "metadata": {
        "id": "k7_EhHEWcRIL"
      },
      "outputs": [],
      "source": [
        "import numpy as np\n",
        "import matplotlib.pyplot as plt\n",
        "\n",
        "from scipy import stats"
      ]
    },
    {
      "cell_type": "markdown",
      "metadata": {
        "id": "F-mdIP3BcRIM"
      },
      "source": [
        "### Zadanie\n",
        "Dla rozkładu dwupunktowego i dwumianowego:\n",
        "1. Zdefiniuj zmienną losową dla tego rozkładu prawdopobieństtwa.\n",
        "2. Narysuj funkcję rozkładu prawdopodobieństwa.\n",
        "3. Narysuj dystrybuantę.\n",
        "4. Wyznacz podstawowe charakterystyki rozkładu: średnia, wariancja, odchylenie standardowe.\n",
        "5. Wylosuj $n$ obserwacji z zdefiniowanego rozkładu.\n",
        "6. Narysujmy histogram dla wylosowanej powyżej próbki.\n",
        "7. Porównaj teoretyczną i zaaobserwowaną funkcję rozkładu prawdopobieństwa."
      ]
    },
    {
      "cell_type": "markdown",
      "metadata": {
        "id": "f5JTTfi-cRIM"
      },
      "source": [
        "### Rozkład dwupunktowy - $Bern(p)$\n",
        "\n",
        "Zmienna losowa $X$ ma **rozkład dwupunktowy** z parametrem $0 < p < 1$, jeżeli\n",
        "$$\n",
        "    P(X=1)=p, \\quad P(X=0)=1-p.\n",
        "$$\n",
        "\n",
        "Zmienna losowa $X$ opisuje pojedyncze doświadczenie, o którym można myśleć w kategorii ,,sukces--porażka'': \n",
        "- zmienna przyjmuje wartość 1 z prawdopodobieństwem $p$, jeżeli w danym doświadczeniu zaistniał **,,sukces''**, oraz\n",
        "- zmienna przyjmuje wartość 0 z prawdopodobieństwem $1-p$, jeżeli w doświadczeniu zainstniała **,,porażka''**."
      ]
    },
    {
      "cell_type": "markdown",
      "metadata": {
        "id": "8reS0pnOcRIN"
      },
      "source": [
        "https://docs.scipy.org/doc/scipy-0.14.0/reference/generated/scipy.stats.bernoulli.html\n",
        "\n",
        "#### Wybrane metody\n",
        "\n",
        "`rvs(p, loc=0, size=1)` \tRandom variates.\n",
        "\n",
        "`pmf(x, p, loc=0)` \tProbability mass function.\n",
        "\n",
        "`cdf(x, p, loc=0)` \tCumulative density function.\n",
        "\n",
        "`sf(x, p, loc=0)` \tSurvival function (1-cdf — sometimes more accurate).\n",
        "\n",
        "`ppf(q, p, loc=0)` \tPercent point function (inverse of cdf — percentiles).\n",
        "\n",
        "`stats(p, loc=0, moments=’mv’)` \tMean(‘m’), variance(‘v’), skew(‘s’), and/or kurtosis(‘k’).\n",
        "\n",
        "`median(p, loc=0)` \tMedian of the distribution.\n",
        "\n",
        "`mean(p, loc=0)` \tMean of the distribution.\n",
        "\n",
        "`var(p, loc=0)` \tVariance of the distribution.\n",
        "\n",
        "`std(p, loc=0)` \tStandard deviation of the distribution."
      ]
    },
    {
      "cell_type": "code",
      "execution_count": null,
      "metadata": {
        "id": "4fuNMEi7cRIN"
      },
      "outputs": [],
      "source": [
        "#1.\n",
        "p = 0.5\n",
        "bern = stats.bernoulli(p=p)"
      ]
    },
    {
      "cell_type": "code",
      "execution_count": null,
      "metadata": {
        "colab": {
          "base_uri": "https://localhost:8080/"
        },
        "id": "LQRE0ZPLcRIN",
        "outputId": "b06932e2-fff0-4fb7-f19b-35d8cb1b7212"
      },
      "outputs": [
        {
          "output_type": "stream",
          "name": "stdout",
          "text": [
            "0.5\n",
            "0.5\n",
            "0.0\n"
          ]
        }
      ],
      "source": [
        "#2.\n",
        "print(bern.pmf(0))\n",
        "print(bern.pmf(1))\n",
        "print(bern.pmf(0.5))\n"
      ]
    },
    {
      "cell_type": "code",
      "execution_count": null,
      "metadata": {
        "colab": {
          "base_uri": "https://localhost:8080/",
          "height": 286
        },
        "id": "gITdNZBxcRIO",
        "outputId": "a6b8cd4b-ebba-47e7-ac09-f6a1232fc64e"
      },
      "outputs": [
        {
          "output_type": "execute_result",
          "data": {
            "text/plain": [
              "<matplotlib.collections.LineCollection at 0x7fc6319012d0>"
            ]
          },
          "metadata": {},
          "execution_count": 4
        },
        {
          "output_type": "display_data",
          "data": {
            "text/plain": [
              "<Figure size 432x288 with 1 Axes>"
            ],
            "image/png": "[encoded data removed]"
          },
          "metadata": {
            "needs_background": "light"
          }
        }
      ],
      "source": [
        "fig, ax = plt.subplots(1, 1)\n",
        "ax.set_xlim([-.5, 1.5])\n",
        "ax.set_ylim([0, 1])\n",
        "\n",
        "x_value = [0, 1]\n",
        "ax.plot(x_value, bern.pmf(x_value), 'go', ms=10, label='theoretical bernoulli pmf')\n",
        "# x : scalar or 1D array_like\n",
        "# x-indexes where to plot the lines.\n",
        "# ymin, ymax : scalar or 1D array_like\n",
        "ax.vlines(x_value, 0, bern.pmf(x_value), colors='g', lw=3, alpha=0.5)"
      ]
    },
    {
      "cell_type": "code",
      "execution_count": null,
      "metadata": {
        "colab": {
          "base_uri": "https://localhost:8080/"
        },
        "id": "TU5etBeTcRIO",
        "outputId": "a221b9e8-4a26-413b-f0d5-3777e7634528"
      },
      "outputs": [
        {
          "output_type": "stream",
          "name": "stdout",
          "text": [
            "0.5\n",
            "1.0\n",
            "0.5\n"
          ]
        }
      ],
      "source": [
        "#3\n",
        "print(bern.cdf(0))\n",
        "print(bern.cdf(1))\n",
        "print(bern.cdf(0.5))"
      ]
    },
    {
      "cell_type": "code",
      "execution_count": null,
      "metadata": {
        "colab": {
          "base_uri": "https://localhost:8080/",
          "height": 269
        },
        "id": "vBI4pDPPcRIP",
        "outputId": "3949d397-5de5-4aad-9a37-587c39b1305a"
      },
      "outputs": [
        {
          "output_type": "display_data",
          "data": {
            "text/plain": [
              "<Figure size 432x288 with 1 Axes>"
            ],
            "image/png": "[encoded data removed]"
          },
          "metadata": {
            "needs_background": "light"
          }
        }
      ],
      "source": [
        "# 3. cdf = Cumulative density function = dystrybuanta\n",
        "fig, ax = plt.subplots(1, 1)\n",
        "\n",
        "ax.set_xlim([-10, 10])\n",
        "ax.set_ylim([-0.2, 1.2])\n",
        "\n",
        "x = np.arange(-10, 10, 0.01)\n",
        "ax.plot(x, bern.cdf(x), 'go--', ms=3, label='bernoulli cdf')\n",
        "ax.axhline(xmin=-5, xmax=5, y=0, color='black', alpha=0.5, linestyle='--')\n",
        "ax.axhline(xmin=-5, xmax=5, y=0.5, color='black', alpha=0.5, linestyle='--')\n",
        "ax.axhline(xmin=-5, xmax=5, y=1, color='black', alpha=0.5, linestyle='--')\n",
        "plt.show()"
      ]
    },
    {
      "cell_type": "code",
      "execution_count": null,
      "metadata": {
        "colab": {
          "base_uri": "https://localhost:8080/"
        },
        "id": "8EuSlKLXcRIP",
        "outputId": "434edefb-61c1-41bd-f9c6-00431c01dc93"
      },
      "outputs": [
        {
          "output_type": "stream",
          "name": "stdout",
          "text": [
            "0.5\n",
            "0.25\n",
            "0.5\n"
          ]
        }
      ],
      "source": [
        "#4\n",
        "print(bern.mean())\n",
        "print(bern.var())\n",
        "print(bern.std())"
      ]
    },
    {
      "cell_type": "code",
      "execution_count": null,
      "metadata": {
        "colab": {
          "base_uri": "https://localhost:8080/"
        },
        "id": "ZyDanxvWcRIP",
        "outputId": "d6feba0f-67eb-4d4b-f96f-eeb343d5167f"
      },
      "outputs": [
        {
          "output_type": "stream",
          "name": "stdout",
          "text": [
            "[0 1 0 0 1 0 1 1 1 1 1 1 0 0 0 0 1 0 0 0 1 1 0 0 1 1 0 0 0 0 0 1 1 0 0 1 0\n",
            " 1 0 0 0 0 1 0 0 1 1 1 1 1 0 0 0 0 0 0 0 1 1 1 0 0 0 0 1 0 1 0 1 1 1 0 0 1\n",
            " 1 0 1 0 0 1 1 0 0 1 0 0 0 1 1 1 1 0 0 0 1 0 1 1 1 1 1 1 0 0 0 1 1 1 0 0 0\n",
            " 0 1 0 0 1 1 1 1 1 1 1 1 1 0 0 0 0 0 1 1 1 0 1 1 1 0 1 1 1 0 1 0 0 0 1 0 0\n",
            " 1 1 1 0 0 1 0 1 0 1 0 0 1 1 0 1 1 1 0 0 0 1 0 0 1 1 1 0 0 1 1 0 1 1 1 0 0\n",
            " 0 1 0 0 0 0 1 0 0 1 0 1 0 1 0 0 0 1 1 1 0 0 1 1 0 1 0 0 0 0 0 1 1 1 1 0 1\n",
            " 1 0 1 0 0 1 0 1 1 0 1 1 0 1 0 1 0 1 0 1 1 0 0 1 1 0 0 0 1 0 1 0 1 0 0 1 0\n",
            " 1 1 1 0 1 0 1 1 0 1 0 0 0 0 1 0 1 1 0 1 1 1 1 0 1 1 0 0 0 1 0 0 1 0 1 1 0\n",
            " 0 1 1 0 1 0 0 1 1 0 1 1 1 1 1 0 0 1 1 1 1 0 1 1 0 0 1 0 0 0 1 1 0 0 1 0 1\n",
            " 0 0 0 1 0 0 0 1 0 1 1 1 1 1 0 0 0 0 0 0 0 0 0 1 0 0 1 0 1 0 1 1 1 1 1 1 0\n",
            " 0 1 0 0 1 0 1 1 1 1 1 1 1 0 0 1 0 1 0 1 0 1 0 0 1 1 1 0 0 0 1 0 0 0 0 1 0\n",
            " 1 0 0 0 1 1 0 0 1 1 0 0 0 1 1 0 0 1 0 0 1 1 0 0 1 0 1 1 1 1 0 1 0 1 1 1 0\n",
            " 0 0 1 0 1 0 0 1 0 0 0 1 1 1 0 0 0 1 1 0 0 0 1 1 1 1 0 1 0 0 0 1 1 1 0 0 0\n",
            " 0 0 1 1 0 1 1 1 1 0 1 1 0 0 0 1 0 0 0 0 0 0 1 0 0 1 1 1 1 1 1 0 0 1 0 1 0\n",
            " 1 0 1 0 1 0 1 0 0 0 1 1 0 0 1 1 1 0 0 1 0 0 0 1 1 1 1 1 0 0 0 1 1 1 1 1 1\n",
            " 0 1 1 1 0 0 0 1 0 1 1 1 0 0 1 0 1 0 1 0 0 0 0 1 1 1 0 0 1 0 0 0 0 0 1 1 1\n",
            " 1 0 0 0 1 0 0 0 0 1 1 0 0 0 0 1 0 1 1 0 1 1 1 0 0 1 0 1 0 0 0 1 1 1 1 0 0\n",
            " 0 1 0 0 1 0 1 1 1 1 1 0 1 1 0 1 0 0 0 1 1 0 0 0 0 0 1 0 1 0 0 1 1 0 1 0 0\n",
            " 1 1 1 1 1 1 1 0 1 1 0 0 0 1 0 0 0 0 0 0 0 0 0 0 0 0 0 0 0 0 0 1 1 0 1 0 0\n",
            " 0 1 0 0 1 1 0 0 0 1 1 1 1 1 0 0 0 0 0 0 0 0 1 1 1 0 0 1 1 0 1 0 1 0 1 0 1\n",
            " 0 1 1 0 0 0 1 1 1 1 0 1 0 1 0 0 1 1 1 0 1 1 1 1 1 1 0 0 0 1 1 1 0 1 0 0 0\n",
            " 1 1 1 0 0 1 0 0 1 1 0 1 1 0 1 0 1 0 0 1 1 1 1 0 1 0 1 1 0 0 1 0 1 1 1 0 0\n",
            " 1 0 1 0 0 1 1 0 1 0 1 0 0 1 0 0 1 1 0 0 0 1 0 0 0 0 1 0 1 0 1 1 0 0 1 1 1\n",
            " 1 1 0 0 1 1 1 0 1 0 1 1 0 0 0 0 0 0 0 0 1 0 0 1 0 0 1 1 1 0 0 0 0 0 1 0 1\n",
            " 0 1 0 1 1 0 0 0 0 0 0 1 1 1 0 1 0 0 1 0 1 0 1 0 0 1 1 1 1 0 1 0 1 0 1 1 1\n",
            " 1 0 1 0 1 1 1 0 0 0 1 0 1 0 0 1 1 0 1 0 0 1 1 1 1 1 0 1 1 1 0 1 0 0 1 0 0\n",
            " 1 1 0 0 0 1 0 1 0 0 1 1 1 1 0 1 1 0 1 1 1 0 0 1 1 1 1 0 0 1 1 0 0 0 1 1 0\n",
            " 1]\n"
          ]
        },
        {
          "output_type": "execute_result",
          "data": {
            "text/plain": [
              "490"
            ]
          },
          "metadata": {},
          "execution_count": 30
        }
      ],
      "source": [
        "#5\n",
        "bern_samp = bern.rvs(1000)\n",
        "print(bern_samp)\n",
        "np.sum(bern_samp)\n",
        "\n"
      ]
    },
    {
      "cell_type": "code",
      "source": [
        "#6\n",
        "plt.hist(bern_samp)"
      ],
      "metadata": {
        "colab": {
          "base_uri": "https://localhost:8080/",
          "height": 317
        },
        "id": "2bsBWWhYhNxu",
        "outputId": "fa654c7b-f825-4dbf-a239-f98117ed3cff"
      },
      "execution_count": null,
      "outputs": [
        {
          "output_type": "execute_result",
          "data": {
            "text/plain": [
              "(array([488.,   0.,   0.,   0.,   0.,   0.,   0.,   0.,   0., 512.]),\n",
              " array([0. , 0.1, 0.2, 0.3, 0.4, 0.5, 0.6, 0.7, 0.8, 0.9, 1. ]),\n",
              " <a list of 10 Patch objects>)"
            ]
          },
          "metadata": {},
          "execution_count": 18
        },
        {
          "output_type": "display_data",
          "data": {
            "text/plain": [
              "<Figure size 432x288 with 1 Axes>"
            ],
            "image/png": "[encoded data removed]"
          },
          "metadata": {
            "needs_background": "light"
          }
        }
      ]
    },
    {
      "cell_type": "code",
      "source": [
        "# 7. porównanie teoretycznej i zaobserwowanej funkcji rozkładu prawdopodobieństwa\n",
        "fig, ax = plt.subplots(1, 1)\n",
        "ax.set_xlim([-.5, 1.5])\n",
        "ax.set_ylim([0, 1])\n",
        "\n",
        "x_value = np.array([0, 1])\n",
        "unique, counts = np.unique(bern_samp, return_counts=True)\n",
        "y_obs = np.array(counts/bern_samp.size)\n",
        "\n",
        "print(y_obs)\n",
        "\n",
        "ax.plot(x_value, bern.pmf(x_value), 'go', ms=10, label='theoretical bernoulli pmf')\n",
        "ax.vlines(x_value, 0, bern.pmf(x_value), colors='g', lw=3, alpha=0.5)\n",
        "\n",
        "ax.plot(x_value, y_obs, 'ro', ms=10, label='observed bernoulli pmf')\n",
        "ax.vlines(x_value, 0, y_obs, colors='r', lw=3, alpha=0.5)\n",
        "\n",
        "plt.legend()\n",
        "plt.show()\n"
      ],
      "metadata": {
        "colab": {
          "base_uri": "https://localhost:8080/",
          "height": 286
        },
        "id": "8CiDDqlpiOXj",
        "outputId": "10585ea2-2993-4647-e6ef-8fd4e11ccb1e"
      },
      "execution_count": null,
      "outputs": [
        {
          "output_type": "stream",
          "name": "stdout",
          "text": [
            "[0.488 0.512]\n"
          ]
        },
        {
          "output_type": "display_data",
          "data": {
            "text/plain": [
              "<Figure size 432x288 with 1 Axes>"
            ],
            "image/png": "[encoded data removed]"
          },
          "metadata": {
            "needs_background": "light"
          }
        }
      ]
    },
    {
      "cell_type": "markdown",
      "metadata": {
        "id": "EamOjI48cRIP"
      },
      "source": [
        "### Rozkład dwumianowy - $Bin(n, p)$\n",
        "Zmienna losowa $X$ ma **rozkład dwumianowy** z parametrami $0<p<1$ oraz $n\\in\\mathbb{N}$, jeżeli\n",
        "$$\n",
        "    P(X=k)=\\binom{n}{k}p^k(1-p)^{n-k} \\quad \\text{dla} \\quad k=0,1,\\ldots,n.\n",
        "$$\n",
        "\n",
        "Zmienna losowa $X$ przyjmuje wartości równe liczbie ,,sukcesów'' w~$n$~niezależnych doświadczeniach z prawdopodobieństwem sukcesu $p$ w każdym z~nich. \n",
        "\n",
        "W szczególności zmienną $X$ możemy przedstawić jako $$X=S_n=\\sum_{i=1}^n X_i,$$ gdzie $X_i \\sim \\text{Bern}(p)$ oraz $(X_i)_{i=1}^n$ są wzajemnie niezależne.\n"
      ]
    },
    {
      "cell_type": "markdown",
      "metadata": {
        "id": "Bou7f3A_cRIP"
      },
      "source": [
        "https://docs.scipy.org/doc/scipy-0.14.0/reference/generated/scipy.stats.binom.html"
      ]
    },
    {
      "cell_type": "code",
      "execution_count": null,
      "metadata": {
        "id": "XQd64aCucRIQ"
      },
      "outputs": [],
      "source": [
        "#1.\n",
        "p = 0.8\n",
        "binom = stats.binom(n = 10,p=p)"
      ]
    },
    {
      "cell_type": "code",
      "execution_count": null,
      "metadata": {
        "colab": {
          "base_uri": "https://localhost:8080/",
          "height": 286
        },
        "id": "nNJxz_ugcRIQ",
        "outputId": "ba06f80e-725c-4973-f79a-bc07f8617f15"
      },
      "outputs": [
        {
          "output_type": "execute_result",
          "data": {
            "text/plain": [
              "<matplotlib.collections.LineCollection at 0x7fc62e294110>"
            ]
          },
          "metadata": {},
          "execution_count": 28
        },
        {
          "output_type": "display_data",
          "data": {
            "text/plain": [
              "<Figure size 432x288 with 1 Axes>"
            ],
            "image/png": "[encoded data removed]"
          },
          "metadata": {
            "needs_background": "light"
          }
        }
      ],
      "source": [
        "fig, ax = plt.subplots(1, 1)\n",
        "ax.set_xlim([-.5, 10.5])\n",
        "ax.set_ylim([0, 1])\n",
        "\n",
        "x_value = np.arange(0,11)\n",
        "ax.plot(x_value, binom.pmf(x_value), 'go', ms=10, label='theoretical binomial pmf')\n",
        "# x : scalar or 1D array_like\n",
        "# x-indexes where to plot the lines.\n",
        "# ymin, ymax : scalar or 1D array_like\n",
        "ax.vlines(x_value, 0, binom.pmf(x_value), colors='g', lw=3, alpha=0.5)"
      ]
    },
    {
      "cell_type": "code",
      "execution_count": null,
      "metadata": {
        "id": "4QDam4blcRIQ"
      },
      "outputs": [],
      "source": [
        ""
      ]
    },
    {
      "cell_type": "code",
      "execution_count": null,
      "metadata": {
        "id": "OTmgxsT6cRIQ"
      },
      "outputs": [],
      "source": [
        ""
      ]
    },
    {
      "cell_type": "code",
      "execution_count": null,
      "metadata": {
        "id": "HEijpeh0cRIQ"
      },
      "outputs": [],
      "source": [
        ""
      ]
    },
    {
      "cell_type": "code",
      "execution_count": null,
      "metadata": {
        "id": "GD7osMQxcRIQ"
      },
      "outputs": [],
      "source": [
        ""
      ]
    },
    {
      "cell_type": "markdown",
      "metadata": {
        "id": "hdZeM3cgcRIQ"
      },
      "source": [
        "### Zadania - dodatkowe"
      ]
    },
    {
      "cell_type": "markdown",
      "metadata": {
        "id": "13H0ymWZcRIR"
      },
      "source": [
        "1. Oblicz prawdopodobieństwo $P(X=5)$, pod warunkiem, że zmienna losowa X ma rozkład dwumianowy z parametrami $n=10$ i $p=0.7$?\n",
        "\n",
        "**Wskazówka**: $$P(X=x_0)=F(x_0)-F(x_0^-),$$gdzie $F(x_0^-)$ oznacza granicę lewostronną dystrybuanty $F$ w punkcie $x_0$."
      ]
    },
    {
      "cell_type": "code",
      "execution_count": null,
      "metadata": {
        "id": "_TWpnVV1cRIR"
      },
      "outputs": [],
      "source": [
        ""
      ]
    },
    {
      "cell_type": "code",
      "execution_count": null,
      "metadata": {
        "id": "-xT1BBu_cRIR"
      },
      "outputs": [],
      "source": [
        ""
      ]
    },
    {
      "cell_type": "code",
      "execution_count": null,
      "metadata": {
        "id": "OQWyla9NcRIR"
      },
      "outputs": [],
      "source": [
        ""
      ]
    },
    {
      "cell_type": "code",
      "execution_count": null,
      "metadata": {
        "id": "m-0kREPxcRIR"
      },
      "outputs": [],
      "source": [
        ""
      ]
    },
    {
      "cell_type": "markdown",
      "metadata": {
        "id": "WbCWBHRUcRIR"
      },
      "source": [
        "2. Oblicz prawdopodobieństwo tego, że rzucając cztery razy kostką wyrzucimy trzy razy ,,trójkę''."
      ]
    },
    {
      "cell_type": "code",
      "execution_count": null,
      "metadata": {
        "id": "H45GpadacRIR"
      },
      "outputs": [],
      "source": [
        ""
      ]
    },
    {
      "cell_type": "code",
      "execution_count": null,
      "metadata": {
        "id": "Lg2KnO9icRIR"
      },
      "outputs": [],
      "source": [
        ""
      ]
    },
    {
      "cell_type": "code",
      "execution_count": null,
      "metadata": {
        "id": "Or_6SfiHcRIS"
      },
      "outputs": [],
      "source": [
        ""
      ]
    },
    {
      "cell_type": "markdown",
      "metadata": {
        "id": "oO7aHBe5cRIS"
      },
      "source": [
        "3. Szacuje się, że aż 70% Polaków posiada kartę kredytową. Jakie jest prawdopodobieństwo, że w losowej grupie 10 osób więcej niż cztery osóby będą posiadały kartę kredytową?\n",
        "\n",
        "**Wskazówka**: $P(X>k)=1-P(X\\leq k) = 1- F(k)$."
      ]
    },
    {
      "cell_type": "code",
      "execution_count": null,
      "metadata": {
        "id": "rurH09kHcRIS"
      },
      "outputs": [],
      "source": [
        ""
      ]
    },
    {
      "cell_type": "code",
      "execution_count": null,
      "metadata": {
        "id": "Wxz9JN6JcRIS"
      },
      "outputs": [],
      "source": [
        ""
      ]
    },
    {
      "cell_type": "code",
      "execution_count": null,
      "metadata": {
        "id": "oLO4-uVucRIS"
      },
      "outputs": [],
      "source": [
        ""
      ]
    },
    {
      "cell_type": "code",
      "execution_count": null,
      "metadata": {
        "id": "2oSuYK53cRIS"
      },
      "outputs": [],
      "source": [
        ""
      ]
    },
    {
      "cell_type": "code",
      "execution_count": null,
      "metadata": {
        "id": "Y6KN8oRVcRIS"
      },
      "outputs": [],
      "source": [
        ""
      ]
    }
  ],
  "metadata": {
    "kernelspec": {
      "display_name": "Python 3",
      "language": "python",
      "name": "python3"
    },
    "language_info": {
      "codemirror_mode": {
        "name": "ipython",
        "version": 3
      },
      "file_extension": ".py",
      "mimetype": "text/x-python",
      "name": "python",
      "nbconvert_exporter": "python",
      "pygments_lexer": "ipython3",
      "version": "3.8.8"
    },
    "colab": {
      "name": "03_dyskretne_rozkłady_prawdopodobieństwa.ipynb",
      "provenance": []
    }
  },
  "nbformat": 4,
  "nbformat_minor": 0
}